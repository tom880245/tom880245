{
 "cells": [
  {
   "cell_type": "code",
   "execution_count": 1,
   "id": "19e775da",
   "metadata": {},
   "outputs": [
    {
     "name": "stdout",
     "output_type": "stream",
     "text": [
      ".ipynb_checkpoints missing\n",
      "1檢查目錄檔名.bat exists\n",
      "2查詢list有沒有該檔案_新版.ipynb exists\n",
      "list.txt exists\n",
      ".ipynb_checkpoints\n",
      "1檢查目錄檔名.bat\n",
      "2查詢list有沒有該檔案_新版.ipynb\n",
      "list.txt\n"
     ]
    }
   ],
   "source": [
    "import os\n",
    "\n",
    "# 取得目前工作目錄路徑\n",
    "path = os.getcwd()\n",
    "\n",
    "# 讀取 list.txt 的檔案名稱，並存入 list 中\n",
    "with open('list.txt', 'r') as f:\n",
    "    file_list = f.read().splitlines()\n",
    "\n",
    "# 開啟 list3.txt 檔案，用來儲存不存在的檔案名稱\n",
    "with open('list3.txt', 'w') as f:\n",
    "    # 逐一檢查每個檔案名稱是否存在於該路徑下\n",
    "    for file in file_list:\n",
    "        if os.path.isfile(os.path.join(path, file)):\n",
    "            print(f'{file} exists')\n",
    "        else:\n",
    "            print(f'{file} missing')\n",
    "            f.write(file + '\\n')\n",
    "file_count = {}\n",
    "\n",
    "# 計算文件名稱的出現次數\n",
    "for file in file_list:\n",
    "    file_count[file] = file_count.get(file, 0) + 1\n",
    "\n",
    "# 開啟 list4.txt 檔案，用來儲存具有相同文件名的清單\n",
    "with open('list4.txt', 'w') as f:\n",
    "    # 尋找出現次數大於1的文件名稱\n",
    "    for file, count in file_count.items():\n",
    "        if count > 1:\n",
    "            f.write(file + '\\n')\n",
    "with open('list5.txt', 'w') as f:\n",
    "   \n",
    "    for s in file_list:\n",
    "        print(s)\n",
    "        if \" \" in s:\n",
    "            \n",
    "            f.write(s + '\\n')\n",
    "        if \"?\" in s:\n",
    "            f.write(s + '\\n')"
   ]
  },
  {
   "cell_type": "code",
   "execution_count": null,
   "id": "f680bb2c",
   "metadata": {},
   "outputs": [],
   "source": [
    "\n"
   ]
  },
  {
   "cell_type": "code",
   "execution_count": null,
   "id": "bc9b514c",
   "metadata": {},
   "outputs": [],
   "source": []
  },
  {
   "cell_type": "code",
   "execution_count": null,
   "id": "1a0f1376",
   "metadata": {},
   "outputs": [],
   "source": []
  },
  {
   "cell_type": "code",
   "execution_count": null,
   "id": "a7c4f759",
   "metadata": {},
   "outputs": [],
   "source": []
  }
 ],
 "metadata": {
  "kernelspec": {
   "display_name": "Python 3 (ipykernel)",
   "language": "python",
   "name": "python3"
  },
  "language_info": {
   "codemirror_mode": {
    "name": "ipython",
    "version": 3
   },
   "file_extension": ".py",
   "mimetype": "text/x-python",
   "name": "python",
   "nbconvert_exporter": "python",
   "pygments_lexer": "ipython3",
   "version": "3.10.9"
  }
 },
 "nbformat": 4,
 "nbformat_minor": 5
}
